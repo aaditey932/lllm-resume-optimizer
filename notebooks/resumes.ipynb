{
 "cells": [
  {
   "cell_type": "code",
   "execution_count": 2,
   "metadata": {},
   "outputs": [
    {
     "name": "stderr",
     "output_type": "stream",
     "text": [
      "/Users/owaiskamdar/Desktop/resume_optimizer/venv/lib/python3.13/site-packages/tqdm/auto.py:21: TqdmWarning: IProgress not found. Please update jupyter and ipywidgets. See https://ipywidgets.readthedocs.io/en/stable/user_install.html\n",
      "  from .autonotebook import tqdm as notebook_tqdm\n"
     ]
    }
   ],
   "source": [
    "import kagglehub\n",
    "import pandas as pd\n",
    "import os\n",
    "import pandas as pd\n",
    "from PyPDF2 import PdfReader\n",
    "from tqdm import tqdm\n"
   ]
  },
  {
   "cell_type": "code",
   "execution_count": 30,
   "metadata": {},
   "outputs": [
    {
     "name": "stdout",
     "output_type": "stream",
     "text": [
      "Job Descriptions Path: /Users/owaiskamdar/.cache/kagglehub/datasets/vaghefi/indeed-jobs/versions/1\n",
      "Resumes Path: /Users/owaiskamdar/.cache/kagglehub/datasets/sauravsolanki/hire-a-perfect-machine-learning-engineer/versions/1\n"
     ]
    }
   ],
   "source": [
    "# Download datasets from kaggle\n",
    "path_jd = kagglehub.dataset_download(\"vaghefi/indeed-jobs\")\n",
    "path_resumes = kagglehub.dataset_download(\"sauravsolanki/hire-a-perfect-machine-learning-engineer\")\n",
    "\n",
    "print(f\"Job Descriptions Path: {path_jd}\")\n",
    "print(f\"Resumes Path: {path_resumes}\")\n"
   ]
  },
  {
   "cell_type": "code",
   "execution_count": 45,
   "metadata": {},
   "outputs": [
    {
     "name": "stdout",
     "output_type": "stream",
     "text": [
      "Job descriptions CSV saved at: /Users/owaiskamdar/Desktop/resume_optimizer/lllm-resume-optimizer/data/raw/jobs/job_descriptions.csv\n"
     ]
    },
    {
     "data": {
      "text/html": [
       "<div>\n",
       "<style scoped>\n",
       "    .dataframe tbody tr th:only-of-type {\n",
       "        vertical-align: middle;\n",
       "    }\n",
       "\n",
       "    .dataframe tbody tr th {\n",
       "        vertical-align: top;\n",
       "    }\n",
       "\n",
       "    .dataframe thead th {\n",
       "        text-align: right;\n",
       "    }\n",
       "</style>\n",
       "<table border=\"1\" class=\"dataframe\">\n",
       "  <thead>\n",
       "    <tr style=\"text-align: right;\">\n",
       "      <th></th>\n",
       "      <th>title</th>\n",
       "      <th>description</th>\n",
       "      <th>city</th>\n",
       "      <th>state</th>\n",
       "      <th>zipcode</th>\n",
       "      <th>salary</th>\n",
       "      <th>company</th>\n",
       "      <th>rating</th>\n",
       "      <th>reviews</th>\n",
       "    </tr>\n",
       "  </thead>\n",
       "  <tbody>\n",
       "    <tr>\n",
       "      <th>0</th>\n",
       "      <td>Data Scientist</td>\n",
       "      <td>About Live Objects\\nLive Objects delivers cont...</td>\n",
       "      <td>Palo Alto</td>\n",
       "      <td>CA</td>\n",
       "      <td>94301</td>\n",
       "      <td>NaN</td>\n",
       "      <td>LIVE OBJECTS</td>\n",
       "      <td>NaN</td>\n",
       "      <td>NaN</td>\n",
       "    </tr>\n",
       "    <tr>\n",
       "      <th>1</th>\n",
       "      <td>Senior Data Scientist, FP&amp;A</td>\n",
       "      <td>The Senior Data Scientist, FP&amp;A role is primar...</td>\n",
       "      <td>Orrville</td>\n",
       "      <td>OH</td>\n",
       "      <td>44667</td>\n",
       "      <td>NaN</td>\n",
       "      <td>The J. M. Smucker Company</td>\n",
       "      <td>3.8</td>\n",
       "      <td>393.0</td>\n",
       "    </tr>\n",
       "    <tr>\n",
       "      <th>2</th>\n",
       "      <td>BI Developer (Tableau)</td>\n",
       "      <td>**U.S. Citizens and those authorized to work i...</td>\n",
       "      <td>Charlotte</td>\n",
       "      <td>NC</td>\n",
       "      <td>28202</td>\n",
       "      <td>$97,000 a year</td>\n",
       "      <td>Vaco</td>\n",
       "      <td>3.7</td>\n",
       "      <td>272.0</td>\n",
       "    </tr>\n",
       "    <tr>\n",
       "      <th>3</th>\n",
       "      <td>Search &amp; Information Retrieval Engineer / Scie...</td>\n",
       "      <td>Summary\\nPosted: Jul 29, 2020\\nRole Number:200...</td>\n",
       "      <td>Santa Clara Valley</td>\n",
       "      <td>CA</td>\n",
       "      <td>95014</td>\n",
       "      <td>NaN</td>\n",
       "      <td>Apple</td>\n",
       "      <td>4.2</td>\n",
       "      <td>9782.0</td>\n",
       "    </tr>\n",
       "    <tr>\n",
       "      <th>4</th>\n",
       "      <td>Machine Learning Engineer</td>\n",
       "      <td>At Sisu, we're building a software platform th...</td>\n",
       "      <td>San Francisco</td>\n",
       "      <td>CA</td>\n",
       "      <td>NaN</td>\n",
       "      <td>NaN</td>\n",
       "      <td>Sisu</td>\n",
       "      <td>4.4</td>\n",
       "      <td>8.0</td>\n",
       "    </tr>\n",
       "  </tbody>\n",
       "</table>\n",
       "</div>"
      ],
      "text/plain": [
       "                                               title  \\\n",
       "0                                     Data Scientist   \n",
       "1                        Senior Data Scientist, FP&A   \n",
       "2                             BI Developer (Tableau)   \n",
       "3  Search & Information Retrieval Engineer / Scie...   \n",
       "4                          Machine Learning Engineer   \n",
       "\n",
       "                                         description                city  \\\n",
       "0  About Live Objects\\nLive Objects delivers cont...           Palo Alto   \n",
       "1  The Senior Data Scientist, FP&A role is primar...            Orrville   \n",
       "2  **U.S. Citizens and those authorized to work i...           Charlotte   \n",
       "3  Summary\\nPosted: Jul 29, 2020\\nRole Number:200...  Santa Clara Valley   \n",
       "4  At Sisu, we're building a software platform th...       San Francisco   \n",
       "\n",
       "  state zipcode          salary                    company  rating  reviews  \n",
       "0    CA   94301             NaN               LIVE OBJECTS     NaN      NaN  \n",
       "1    OH   44667             NaN  The J. M. Smucker Company     3.8    393.0  \n",
       "2    NC   28202  $97,000 a year                       Vaco     3.7    272.0  \n",
       "3    CA   95014             NaN                      Apple     4.2   9782.0  \n",
       "4    CA     NaN             NaN                       Sisu     4.4      8.0  "
      ]
     },
     "execution_count": 45,
     "metadata": {},
     "output_type": "execute_result"
    }
   ],
   "source": [
    "# define roots for jobs\n",
    "PROJECT_ROOT = os.path.abspath(os.path.join(os.getcwd(), \"..\"))\n",
    "RAW_JOBS_PATH = os.path.join(PROJECT_ROOT, \"data/raw/jobs\")\n",
    "\n",
    "# Ensure directories exist\n",
    "os.makedirs(RAW_JOBS_PATH, exist_ok=True)\n",
    "\n",
    "# Load job descriptions CSV\n",
    "job_descriptions = pd.read_csv(path_jd + \"/indeed_jobs.csv\")\n",
    "\n",
    "# Save the CSV file in the correct directory\n",
    "job_descriptions.to_csv(os.path.join(RAW_JOBS_PATH, \"job_descriptions.csv\"), index=False)\n",
    "\n",
    "print(f\"Job descriptions CSV saved at: {RAW_JOBS_PATH}/job_descriptions.csv\")\n",
    "\n",
    "# Preview dataset\n",
    "job_descriptions.head()\n"
   ]
  },
  {
   "cell_type": "code",
   "execution_count": 46,
   "metadata": {},
   "outputs": [
    {
     "name": "stderr",
     "output_type": "stream",
     "text": [
      "Downloading PDFs to /data/raw/resumes: 100%|██████████| 90/90 [00:00<00:00, 78333.13it/s]"
     ]
    },
    {
     "name": "stdout",
     "output_type": "stream",
     "text": [
      "All resumes (PDFs) have been downloaded and saved to: /Users/owaiskamdar/Desktop/resume_optimizer/lllm-resume-optimizer/data/raw/resumes\n",
      "Total Resumes Downloaded: 90\n"
     ]
    },
    {
     "name": "stderr",
     "output_type": "stream",
     "text": [
      "\n"
     ]
    }
   ],
   "source": [
    "# path for resumes\n",
    "RAW_RESUMES_PATH = os.path.join(PROJECT_ROOT, \"data/raw/resumes\")\n",
    "\n",
    "os.makedirs(RAW_RESUMES_PATH, exist_ok=True)\n",
    "\n",
    "# source folder where kagglehub stores pdfs\n",
    "pdf_folder = path_resumes + \"/HireAMLE/dataset/trainResumes\"\n",
    "pdf_files = [f for f in os.listdir(pdf_folder) if f.endswith(\".pdf\")]\n",
    "\n",
    "#save pdfs\n",
    "for pdf_file in tqdm(pdf_files, desc=\"Downloading PDFs to /data/raw/resumes\"):\n",
    "    source_path = os.path.join(pdf_folder, pdf_file)\n",
    "    destination_path = os.path.join(RAW_RESUMES_PATH, pdf_file)\n",
    "    \n",
    "    if not os.path.exists(destination_path):  # Avoid redundant downloads\n",
    "        with open(source_path, \"rb\") as src_file, open(destination_path, \"wb\") as dest_file:\n",
    "            dest_file.write(src_file.read())\n",
    "\n",
    "print(f\"All resumes (PDFs) have been downloaded and saved to: {RAW_RESUMES_PATH}\")\n",
    "\n",
    "# Count number of PDFs\n",
    "print(f\"Total Resumes Downloaded: {len(pdf_files)}\")\n"
   ]
  },
  {
   "cell_type": "code",
   "execution_count": 47,
   "metadata": {},
   "outputs": [
    {
     "name": "stderr",
     "output_type": "stream",
     "text": [
      "Extracting text from PDFs: 100%|██████████| 90/90 [00:01<00:00, 51.93it/s]\n"
     ]
    },
    {
     "data": {
      "text/html": [
       "<div>\n",
       "<style scoped>\n",
       "    .dataframe tbody tr th:only-of-type {\n",
       "        vertical-align: middle;\n",
       "    }\n",
       "\n",
       "    .dataframe tbody tr th {\n",
       "        vertical-align: top;\n",
       "    }\n",
       "\n",
       "    .dataframe thead th {\n",
       "        text-align: right;\n",
       "    }\n",
       "</style>\n",
       "<table border=\"1\" class=\"dataframe\">\n",
       "  <thead>\n",
       "    <tr style=\"text-align: right;\">\n",
       "      <th></th>\n",
       "      <th>filename</th>\n",
       "      <th>resume_text</th>\n",
       "    </tr>\n",
       "  </thead>\n",
       "  <tbody>\n",
       "    <tr>\n",
       "      <th>0</th>\n",
       "      <td>candidate_070.pdf</td>\n",
       "      <td>Publicis Sapient\\nDATA PROGRAMMER, JAN 2019 - ...</td>\n",
       "    </tr>\n",
       "    <tr>\n",
       "      <th>1</th>\n",
       "      <td>candidate_064.pdf</td>\n",
       "      <td>DAMIAN ROSSIER\\nPROFILE\\nExpertise EDA modeler...</td>\n",
       "    </tr>\n",
       "    <tr>\n",
       "      <th>2</th>\n",
       "      <td>candidate_138.pdf</td>\n",
       "      <td>One97 Communications Limited \\nData Scientist ...</td>\n",
       "    </tr>\n",
       "    <tr>\n",
       "      <th>3</th>\n",
       "      <td>candidate_104.pdf</td>\n",
       "      <td>Sanrachna SGT University \\nDeputy Data Analyst...</td>\n",
       "    </tr>\n",
       "    <tr>\n",
       "      <th>4</th>\n",
       "      <td>candidate_110.pdf</td>\n",
       "      <td>BILL CLIFFORD\\nPROFILE\\nI am an experienced an...</td>\n",
       "    </tr>\n",
       "  </tbody>\n",
       "</table>\n",
       "</div>"
      ],
      "text/plain": [
       "            filename                                        resume_text\n",
       "0  candidate_070.pdf  Publicis Sapient\\nDATA PROGRAMMER, JAN 2019 - ...\n",
       "1  candidate_064.pdf  DAMIAN ROSSIER\\nPROFILE\\nExpertise EDA modeler...\n",
       "2  candidate_138.pdf  One97 Communications Limited \\nData Scientist ...\n",
       "3  candidate_104.pdf  Sanrachna SGT University \\nDeputy Data Analyst...\n",
       "4  candidate_110.pdf  BILL CLIFFORD\\nPROFILE\\nI am an experienced an..."
      ]
     },
     "execution_count": 47,
     "metadata": {},
     "output_type": "execute_result"
    }
   ],
   "source": [
    "# extract text from pdfs\n",
    "def extract_text_from_pdf(pdf_path):\n",
    "    \"\"\"Extract text from a PDF file.\"\"\"\n",
    "    try:\n",
    "        reader = PdfReader(pdf_path)\n",
    "        text = \"\\n\".join([page.extract_text() for page in reader.pages if page.extract_text()])\n",
    "        return text.strip()\n",
    "    except Exception as e:\n",
    "        print(f\"Error reading {pdf_path}: {e}\")\n",
    "        return None\n",
    "\n",
    "# get list of pdfs\n",
    "pdf_files = [f for f in os.listdir(RAW_RESUMES_PATH) if f.endswith(\".pdf\")]\n",
    "\n",
    "# extract text from each PDF and store it in a DataFrame\n",
    "resume_data = []\n",
    "for pdf_file in tqdm(pdf_files, desc=\"Extracting text from PDFs\"):\n",
    "    pdf_path = os.path.join(RAW_RESUMES_PATH, pdf_file)\n",
    "    resume_text = extract_text_from_pdf(pdf_path)\n",
    "    resume_data.append({\"filename\": pdf_file, \"resume_text\": resume_text})\n",
    "\n",
    "# convert to DataFrame\n",
    "df_resumes = pd.DataFrame(resume_data)\n",
    "\n",
    "# Save processed resumes\n",
    "PROCESSED_RESUMES_PATH = os.path.join(PROJECT_ROOT, \"data/processed/resumes\")\n",
    "os.makedirs(PROCESSED_RESUMES_PATH, exist_ok=True)\n",
    "df_resumes.to_csv(os.path.join(PROCESSED_RESUMES_PATH, \"processed_resumes.csv\"), index=False)\n",
    "\n",
    "# Preview extracted resumes\n",
    "df_resumes.head()\n"
   ]
  },
  {
   "cell_type": "code",
   "execution_count": 48,
   "metadata": {},
   "outputs": [
    {
     "data": {
      "text/html": [
       "<div>\n",
       "<style scoped>\n",
       "    .dataframe tbody tr th:only-of-type {\n",
       "        vertical-align: middle;\n",
       "    }\n",
       "\n",
       "    .dataframe tbody tr th {\n",
       "        vertical-align: top;\n",
       "    }\n",
       "\n",
       "    .dataframe thead th {\n",
       "        text-align: right;\n",
       "    }\n",
       "</style>\n",
       "<table border=\"1\" class=\"dataframe\">\n",
       "  <thead>\n",
       "    <tr style=\"text-align: right;\">\n",
       "      <th></th>\n",
       "      <th>job_description</th>\n",
       "    </tr>\n",
       "  </thead>\n",
       "  <tbody>\n",
       "    <tr>\n",
       "      <th>0</th>\n",
       "      <td>**TITLE**: Data Scientist **DESCRIPTIONS** Abo...</td>\n",
       "    </tr>\n",
       "    <tr>\n",
       "      <th>1</th>\n",
       "      <td>**TITLE**: Senior Data Scientist, FP&amp;A **DESCR...</td>\n",
       "    </tr>\n",
       "    <tr>\n",
       "      <th>2</th>\n",
       "      <td>**TITLE**: BI Developer (Tableau) **DESCRIPTIO...</td>\n",
       "    </tr>\n",
       "    <tr>\n",
       "      <th>3</th>\n",
       "      <td>**TITLE**: Search &amp; Information Retrieval Engi...</td>\n",
       "    </tr>\n",
       "    <tr>\n",
       "      <th>4</th>\n",
       "      <td>**TITLE**: Machine Learning Engineer **DESCRIP...</td>\n",
       "    </tr>\n",
       "  </tbody>\n",
       "</table>\n",
       "</div>"
      ],
      "text/plain": [
       "                                     job_description\n",
       "0  **TITLE**: Data Scientist **DESCRIPTIONS** Abo...\n",
       "1  **TITLE**: Senior Data Scientist, FP&A **DESCR...\n",
       "2  **TITLE**: BI Developer (Tableau) **DESCRIPTIO...\n",
       "3  **TITLE**: Search & Information Retrieval Engi...\n",
       "4  **TITLE**: Machine Learning Engineer **DESCRIP..."
      ]
     },
     "execution_count": 48,
     "metadata": {},
     "output_type": "execute_result"
    }
   ],
   "source": [
    "# load job descriptions\n",
    "job_descriptions = pd.read_csv(os.path.join(RAW_JOBS_PATH, \"job_descriptions.csv\"))\n",
    "\n",
    "# format job descriptions\n",
    "job_descriptions[\"job_description\"] = \"**TITLE**: \" + job_descriptions[\"title\"] + \\\n",
    "                                      \" **DESCRIPTIONS** \" + job_descriptions[\"description\"] + \\\n",
    "                                      \" **COMPANY** \" + job_descriptions[\"company\"]\n",
    "\n",
    "# Drop unnecessary columns\n",
    "job_descriptions = job_descriptions.drop(columns=[\"title\", \"description\", \"company\", \n",
    "                                                  \"city\", \"state\", \"zipcode\", \"salary\", \"rating\", \"reviews\"])\n",
    "\n",
    "# save processed job descriptions\n",
    "PROCESSED_JOBS_PATH = os.path.join(PROJECT_ROOT, \"data/processed/jobs\")\n",
    "os.makedirs(PROCESSED_JOBS_PATH, exist_ok=True)\n",
    "job_descriptions.to_csv(os.path.join(PROCESSED_JOBS_PATH, \"processed_job_descriptions.csv\"), index=False)\n",
    "job_descriptions.head()\n"
   ]
  },
  {
   "cell_type": "code",
   "execution_count": 49,
   "metadata": {},
   "outputs": [
    {
     "data": {
      "text/html": [
       "<div>\n",
       "<style scoped>\n",
       "    .dataframe tbody tr th:only-of-type {\n",
       "        vertical-align: middle;\n",
       "    }\n",
       "\n",
       "    .dataframe tbody tr th {\n",
       "        vertical-align: top;\n",
       "    }\n",
       "\n",
       "    .dataframe thead th {\n",
       "        text-align: right;\n",
       "    }\n",
       "</style>\n",
       "<table border=\"1\" class=\"dataframe\">\n",
       "  <thead>\n",
       "    <tr style=\"text-align: right;\">\n",
       "      <th></th>\n",
       "      <th>job_description</th>\n",
       "    </tr>\n",
       "  </thead>\n",
       "  <tbody>\n",
       "    <tr>\n",
       "      <th>0</th>\n",
       "      <td>**TITLE**: Product Manager - Computer Vision *...</td>\n",
       "    </tr>\n",
       "    <tr>\n",
       "      <th>1</th>\n",
       "      <td>**TITLE**: Machine Learning Software Engineer ...</td>\n",
       "    </tr>\n",
       "    <tr>\n",
       "      <th>2</th>\n",
       "      <td>**TITLE**: Data Engineer **DESCRIPTIONS** Data...</td>\n",
       "    </tr>\n",
       "    <tr>\n",
       "      <th>3</th>\n",
       "      <td>**TITLE**: Sr. Data Engineer **DESCRIPTIONS** ...</td>\n",
       "    </tr>\n",
       "    <tr>\n",
       "      <th>4</th>\n",
       "      <td>**TITLE**: Machine Learning Engineer **DESCRIP...</td>\n",
       "    </tr>\n",
       "  </tbody>\n",
       "</table>\n",
       "</div>"
      ],
      "text/plain": [
       "                                     job_description\n",
       "0  **TITLE**: Product Manager - Computer Vision *...\n",
       "1  **TITLE**: Machine Learning Software Engineer ...\n",
       "2  **TITLE**: Data Engineer **DESCRIPTIONS** Data...\n",
       "3  **TITLE**: Sr. Data Engineer **DESCRIPTIONS** ...\n",
       "4  **TITLE**: Machine Learning Engineer **DESCRIP..."
      ]
     },
     "execution_count": 49,
     "metadata": {},
     "output_type": "execute_result"
    }
   ],
   "source": [
    "job_descriptions_sampled = job_descriptions.sample(n=2000, random_state=42).reset_index(drop=True)\n",
    "\n",
    "# Preview sample\n",
    "job_descriptions_sampled.head()\n"
   ]
  },
  {
   "cell_type": "code",
   "execution_count": 59,
   "metadata": {},
   "outputs": [
    {
     "name": "stdout",
     "output_type": "stream",
     "text": [
      "Total resumes available: 90\n"
     ]
    },
    {
     "data": {
      "text/html": [
       "<div>\n",
       "<style scoped>\n",
       "    .dataframe tbody tr th:only-of-type {\n",
       "        vertical-align: middle;\n",
       "    }\n",
       "\n",
       "    .dataframe tbody tr th {\n",
       "        vertical-align: top;\n",
       "    }\n",
       "\n",
       "    .dataframe thead th {\n",
       "        text-align: right;\n",
       "    }\n",
       "</style>\n",
       "<table border=\"1\" class=\"dataframe\">\n",
       "  <thead>\n",
       "    <tr style=\"text-align: right;\">\n",
       "      <th></th>\n",
       "      <th>filename</th>\n",
       "      <th>resume_text</th>\n",
       "    </tr>\n",
       "  </thead>\n",
       "  <tbody>\n",
       "    <tr>\n",
       "      <th>0</th>\n",
       "      <td>candidate_070.pdf</td>\n",
       "      <td>Publicis Sapient\\nDATA PROGRAMMER, JAN 2019 - ...</td>\n",
       "    </tr>\n",
       "    <tr>\n",
       "      <th>1</th>\n",
       "      <td>candidate_064.pdf</td>\n",
       "      <td>DAMIAN ROSSIER\\nPROFILE\\nExpertise EDA modeler...</td>\n",
       "    </tr>\n",
       "    <tr>\n",
       "      <th>2</th>\n",
       "      <td>candidate_138.pdf</td>\n",
       "      <td>One97 Communications Limited \\nData Scientist ...</td>\n",
       "    </tr>\n",
       "    <tr>\n",
       "      <th>3</th>\n",
       "      <td>candidate_104.pdf</td>\n",
       "      <td>Sanrachna SGT University \\nDeputy Data Analyst...</td>\n",
       "    </tr>\n",
       "    <tr>\n",
       "      <th>4</th>\n",
       "      <td>candidate_110.pdf</td>\n",
       "      <td>BILL CLIFFORD\\nPROFILE\\nI am an experienced an...</td>\n",
       "    </tr>\n",
       "  </tbody>\n",
       "</table>\n",
       "</div>"
      ],
      "text/plain": [
       "            filename                                        resume_text\n",
       "0  candidate_070.pdf  Publicis Sapient\\nDATA PROGRAMMER, JAN 2019 - ...\n",
       "1  candidate_064.pdf  DAMIAN ROSSIER\\nPROFILE\\nExpertise EDA modeler...\n",
       "2  candidate_138.pdf  One97 Communications Limited \\nData Scientist ...\n",
       "3  candidate_104.pdf  Sanrachna SGT University \\nDeputy Data Analyst...\n",
       "4  candidate_110.pdf  BILL CLIFFORD\\nPROFILE\\nI am an experienced an..."
      ]
     },
     "execution_count": 59,
     "metadata": {},
     "output_type": "execute_result"
    }
   ],
   "source": [
    "# load the processed resumes dataset\n",
    "df_resumes = pd.read_csv(os.path.join(PROCESSED_RESUMES_PATH, \"processed_resumes.csv\"))\n",
    "\n",
    "# check the number of resumes\n",
    "num_resumes = len(df_resumes)\n",
    "print(f\"Total resumes available: {num_resumes}\")\n",
    "\n",
    "# 2000 rows\n",
    "repeated_resumes = [df_resumes.iloc[i % num_resumes] for i in range(2000)]\n",
    "df_resumes_expanded = pd.DataFrame(repeated_resumes).reset_index(drop=True)\n",
    "\n",
    "# Preview repeated resumes\n",
    "df_resumes_expanded.head()\n",
    "\n"
   ]
  },
  {
   "cell_type": "code",
   "execution_count": 60,
   "metadata": {},
   "outputs": [
    {
     "data": {
      "text/plain": [
       "2000"
      ]
     },
     "execution_count": 60,
     "metadata": {},
     "output_type": "execute_result"
    }
   ],
   "source": [
    "\n",
    "# count rows\n",
    "len(df_resumes_expanded)    \n"
   ]
  },
  {
   "cell_type": "code",
   "execution_count": 61,
   "metadata": {},
   "outputs": [
    {
     "data": {
      "text/html": [
       "<div>\n",
       "<style scoped>\n",
       "    .dataframe tbody tr th:only-of-type {\n",
       "        vertical-align: middle;\n",
       "    }\n",
       "\n",
       "    .dataframe tbody tr th {\n",
       "        vertical-align: top;\n",
       "    }\n",
       "\n",
       "    .dataframe thead th {\n",
       "        text-align: right;\n",
       "    }\n",
       "</style>\n",
       "<table border=\"1\" class=\"dataframe\">\n",
       "  <thead>\n",
       "    <tr style=\"text-align: right;\">\n",
       "      <th></th>\n",
       "      <th>job_description</th>\n",
       "      <th>resume_text</th>\n",
       "    </tr>\n",
       "  </thead>\n",
       "  <tbody>\n",
       "    <tr>\n",
       "      <th>0</th>\n",
       "      <td>**TITLE**: Product Manager - Computer Vision *...</td>\n",
       "      <td>Publicis Sapient\\nDATA PROGRAMMER, JAN 2019 - ...</td>\n",
       "    </tr>\n",
       "    <tr>\n",
       "      <th>1</th>\n",
       "      <td>**TITLE**: Machine Learning Software Engineer ...</td>\n",
       "      <td>DAMIAN ROSSIER\\nPROFILE\\nExpertise EDA modeler...</td>\n",
       "    </tr>\n",
       "    <tr>\n",
       "      <th>2</th>\n",
       "      <td>**TITLE**: Data Engineer **DESCRIPTIONS** Data...</td>\n",
       "      <td>One97 Communications Limited \\nData Scientist ...</td>\n",
       "    </tr>\n",
       "    <tr>\n",
       "      <th>3</th>\n",
       "      <td>**TITLE**: Sr. Data Engineer **DESCRIPTIONS** ...</td>\n",
       "      <td>Sanrachna SGT University \\nDeputy Data Analyst...</td>\n",
       "    </tr>\n",
       "    <tr>\n",
       "      <th>4</th>\n",
       "      <td>**TITLE**: Machine Learning Engineer **DESCRIP...</td>\n",
       "      <td>BILL CLIFFORD\\nPROFILE\\nI am an experienced an...</td>\n",
       "    </tr>\n",
       "  </tbody>\n",
       "</table>\n",
       "</div>"
      ],
      "text/plain": [
       "                                     job_description  \\\n",
       "0  **TITLE**: Product Manager - Computer Vision *...   \n",
       "1  **TITLE**: Machine Learning Software Engineer ...   \n",
       "2  **TITLE**: Data Engineer **DESCRIPTIONS** Data...   \n",
       "3  **TITLE**: Sr. Data Engineer **DESCRIPTIONS** ...   \n",
       "4  **TITLE**: Machine Learning Engineer **DESCRIP...   \n",
       "\n",
       "                                         resume_text  \n",
       "0  Publicis Sapient\\nDATA PROGRAMMER, JAN 2019 - ...  \n",
       "1  DAMIAN ROSSIER\\nPROFILE\\nExpertise EDA modeler...  \n",
       "2  One97 Communications Limited \\nData Scientist ...  \n",
       "3  Sanrachna SGT University \\nDeputy Data Analyst...  \n",
       "4  BILL CLIFFORD\\nPROFILE\\nI am an experienced an...  "
      ]
     },
     "execution_count": 61,
     "metadata": {},
     "output_type": "execute_result"
    }
   ],
   "source": [
    "# merge both\n",
    "final_df = job_descriptions_sampled.copy()\n",
    "final_df[\"resume_text\"] = df_resumes_expanded[\"resume_text\"].values  # Assign resumes\n",
    "\n",
    "# Preview the merged dataset\n",
    "final_df.head()\n",
    "\n"
   ]
  },
  {
   "cell_type": "code",
   "execution_count": 62,
   "metadata": {},
   "outputs": [
    {
     "data": {
      "text/plain": [
       "2000"
      ]
     },
     "execution_count": 62,
     "metadata": {},
     "output_type": "execute_result"
    }
   ],
   "source": [
    "\n",
    "# count rows\n",
    "len(final_df)    \n"
   ]
  },
  {
   "cell_type": "code",
   "execution_count": 63,
   "metadata": {},
   "outputs": [
    {
     "name": "stdout",
     "output_type": "stream",
     "text": [
      "Final dataset saved at: /Users/owaiskamdar/Desktop/resume_optimizer/lllm-resume-optimizer/data/final/matched_resumes_jobs.csv\n"
     ]
    },
    {
     "data": {
      "text/html": [
       "<div>\n",
       "<style scoped>\n",
       "    .dataframe tbody tr th:only-of-type {\n",
       "        vertical-align: middle;\n",
       "    }\n",
       "\n",
       "    .dataframe tbody tr th {\n",
       "        vertical-align: top;\n",
       "    }\n",
       "\n",
       "    .dataframe thead th {\n",
       "        text-align: right;\n",
       "    }\n",
       "</style>\n",
       "<table border=\"1\" class=\"dataframe\">\n",
       "  <thead>\n",
       "    <tr style=\"text-align: right;\">\n",
       "      <th></th>\n",
       "      <th>job_description</th>\n",
       "      <th>resume_text</th>\n",
       "    </tr>\n",
       "  </thead>\n",
       "  <tbody>\n",
       "    <tr>\n",
       "      <th>0</th>\n",
       "      <td>**TITLE**: Product Manager - Computer Vision *...</td>\n",
       "      <td>Publicis Sapient\\nDATA PROGRAMMER, JAN 2019 - ...</td>\n",
       "    </tr>\n",
       "    <tr>\n",
       "      <th>1</th>\n",
       "      <td>**TITLE**: Machine Learning Software Engineer ...</td>\n",
       "      <td>DAMIAN ROSSIER\\nPROFILE\\nExpertise EDA modeler...</td>\n",
       "    </tr>\n",
       "    <tr>\n",
       "      <th>2</th>\n",
       "      <td>**TITLE**: Data Engineer **DESCRIPTIONS** Data...</td>\n",
       "      <td>One97 Communications Limited \\nData Scientist ...</td>\n",
       "    </tr>\n",
       "    <tr>\n",
       "      <th>3</th>\n",
       "      <td>**TITLE**: Sr. Data Engineer **DESCRIPTIONS** ...</td>\n",
       "      <td>Sanrachna SGT University \\nDeputy Data Analyst...</td>\n",
       "    </tr>\n",
       "    <tr>\n",
       "      <th>4</th>\n",
       "      <td>**TITLE**: Machine Learning Engineer **DESCRIP...</td>\n",
       "      <td>BILL CLIFFORD\\nPROFILE\\nI am an experienced an...</td>\n",
       "    </tr>\n",
       "  </tbody>\n",
       "</table>\n",
       "</div>"
      ],
      "text/plain": [
       "                                     job_description  \\\n",
       "0  **TITLE**: Product Manager - Computer Vision *...   \n",
       "1  **TITLE**: Machine Learning Software Engineer ...   \n",
       "2  **TITLE**: Data Engineer **DESCRIPTIONS** Data...   \n",
       "3  **TITLE**: Sr. Data Engineer **DESCRIPTIONS** ...   \n",
       "4  **TITLE**: Machine Learning Engineer **DESCRIP...   \n",
       "\n",
       "                                         resume_text  \n",
       "0  Publicis Sapient\\nDATA PROGRAMMER, JAN 2019 - ...  \n",
       "1  DAMIAN ROSSIER\\nPROFILE\\nExpertise EDA modeler...  \n",
       "2  One97 Communications Limited \\nData Scientist ...  \n",
       "3  Sanrachna SGT University \\nDeputy Data Analyst...  \n",
       "4  BILL CLIFFORD\\nPROFILE\\nI am an experienced an...  "
      ]
     },
     "execution_count": 63,
     "metadata": {},
     "output_type": "execute_result"
    }
   ],
   "source": [
    "# Define final dataset path\n",
    "FINAL_DATASET_PATH = os.path.join(PROJECT_ROOT, \"data/final/matched_resumes_jobs.csv\")\n",
    "\n",
    "# Ensure the directory exists\n",
    "os.makedirs(os.path.dirname(FINAL_DATASET_PATH), exist_ok=True)\n",
    "\n",
    "# Save final dataset\n",
    "final_df.to_csv(FINAL_DATASET_PATH, index=False)\n",
    "\n",
    "print(f\"Final dataset saved at: {FINAL_DATASET_PATH}\")\n",
    "\n",
    "# Display a sample\n",
    "final_df.head()"
   ]
  },
  {
   "cell_type": "code",
   "execution_count": 66,
   "metadata": {},
   "outputs": [
    {
     "data": {
      "text/plain": [
       "'Publicis Sapient\\nDATA PROGRAMMER, JAN 2019 - TILL DATE\\nSetting up processes for data management, template\\nanalytical modules/deliverables; improving processes\\nwith a focus on automation of data feeding to ML\\nmodels.\\nPublicis Sapient\\nANALYST INTERN, OCT 2018 - JAN 2018\\nWorked on air pollution related Disease Analysis.\\nB.Tech (Electrical), NIST Kottam, 2019WORK EXPERIENCE\\nEDUCATIONGRANT ABBERNS\\nDATA MANAGER\\nExpertise in identifying & developing innovative and out-of-the-box analytical solutions using suitable machine learning\\nalgorithms and statistical methods to achieve actionable insights & optimize business decisions Skilled in assisting in the\\nstrategic direction of the company by identifying opportunities in large, rich data sets and creating and implementing data-\\ndriven strategies that fuel growth Capable in driving data-driven decisionmaking, stakeholder management, steering\\nanalytics practice and deciding best-fit commercial model options for different sourcing scenarios. \\nData Programming, Data Analysis, Machine Learning, Data Modelling, Deep Learning, Data Visualization, Text Mining,\\nSAS Base, Python, Excel, Tableau, Insights, Objective Analysis.ABOUT\\nSKILLS\\nMovie Market Survey Food Recommending\\nSystem\\nData Science With SAS and R \\nAdvanced SAS: SQL & Macros \\nPython Text MiningPROJECT\\nOTHER QUALIFICATION'"
      ]
     },
     "execution_count": 66,
     "metadata": {},
     "output_type": "execute_result"
    }
   ],
   "source": [
    "final_df[\"resume_text\"][0]\n",
    "\n"
   ]
  },
  {
   "cell_type": "code",
   "execution_count": 67,
   "metadata": {},
   "outputs": [
    {
     "data": {
      "text/plain": [
       "\"**TITLE**: Product Manager - Computer Vision **DESCRIPTIONS** Want to join a fun, creative company that is on the cutting edge of amazing technologies? NVIDIA is developing groundbreaking solutions in some of the world’s most exciting technology areas including Computer Vision, Virtual Reality, Artificial Intelligence, Deep Learning and Autonomous Vehicles.\\nWe are looking for a Product Manager to join our NVIDIA Product Management team to define and develop products to grow our AI and Computer Vision business. As a Product Manager, you will mold NVIDIA state of the art AI and computer vision technology into next generation products. You will work with forward-thinking people in engineering, operations and marketing to lead every phase of product, from conception to obsolescence.\\nWhat you'll be doing:\\nCollect requirements to define future products, including competitive analysis and customer feedback.\\nCollaborate with research, engineering, product, and campaign teams in driving the new product introduction process and product transitions.\\nWork closely with partners to ensure products get to market on time and to understand customer use cases and workflows.\\nWhat we need to see:\\nBS/MS in engineering with 5+ years of experience in software and hardware platforms or equivalent experience\\nSelf-starter, with a 'can-do' attitude in a multifaceted environment.\\nAbility to multitask and prioritize in a demanding environment.\\nExperience with product requirements management tools (e.g. JAMA)\\nExcellent communication and presentation abilities.\\nWays to stand out from the crowd:\\nBackground in AI, computer vision, robotics, or autonomous vehicles.\\nExperience with deep learning, data science, and NVIDIA GPUs.\\nSuccessful management of technical products throughout their lifecycle.\\nSolid understanding of artificial intelligence/deep learning techniques and their application to customer workflows.\\nLove technology and passionate about what you do\\nStrong collaborative and interpersonal skills, specifically a proven track record to effectively guide and influence within a dynamic environment\\nWith highly competitive salaries and a comprehensive benefits package, NVIDIA is widely considered to be one of the technology industry's most desirable employers. We have some of the most forward-thinking and hardworking people in the world working with us and our product lines are growing fast in some of the hottest fields such as virtual reality, deep learning, artificial intelligence, graphics virtualization, photo realistic rendering and more.\\nNVIDIA is committed to fostering a diverse work environment and proud to be an equal opportunity employer. As we highly value diversity in our current and future employees, we do not discriminate (including in our hiring and promotion practices) on the basis of race, religion, color, national origin, gender, gender expression , sexual orientation, age, marital status, veteran status, disability status or any other characteristic protected by law.\\n#deeplearning **COMPANY** NVIDIA\""
      ]
     },
     "execution_count": 67,
     "metadata": {},
     "output_type": "execute_result"
    }
   ],
   "source": [
    "final_df[\"job_description\"][0]"
   ]
  }
 ],
 "metadata": {
  "kernelspec": {
   "display_name": "venv",
   "language": "python",
   "name": "python3"
  },
  "language_info": {
   "codemirror_mode": {
    "name": "ipython",
    "version": 3
   },
   "file_extension": ".py",
   "mimetype": "text/x-python",
   "name": "python",
   "nbconvert_exporter": "python",
   "pygments_lexer": "ipython3",
   "version": "3.13.2"
  }
 },
 "nbformat": 4,
 "nbformat_minor": 2
}
